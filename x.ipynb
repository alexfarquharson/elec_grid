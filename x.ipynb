{
 "cells": [
  {
   "cell_type": "code",
   "execution_count": null,
   "id": "b2c148b6",
   "metadata": {},
   "outputs": [],
   "source": [
    "from elec_grid.spain_weather_model import main\n",
    "main.get_outputs()"
   ]
  }
 ],
 "metadata": {
  "kernelspec": {
   "display_name": ".env_eg (3.11.9)",
   "language": "python",
   "name": "python3"
  },
  "language_info": {
   "codemirror_mode": {
    "name": "ipython",
    "version": 3
   },
   "file_extension": ".py",
   "mimetype": "text/x-python",
   "name": "python",
   "nbconvert_exporter": "python",
   "pygments_lexer": "ipython3",
   "version": "3.11.9"
  }
 },
 "nbformat": 4,
 "nbformat_minor": 5
}
