{
 "cells": [
  {
   "cell_type": "code",
   "execution_count": 28,
   "id": "df6f7012",
   "metadata": {},
   "outputs": [],
   "source": [
    "import pandas as pd\n",
    "\n",
    "config = {'start_date' : '01/01/2025',\n",
    "          'end_date' : '01/01/2025',\n",
    "          'repd_name' : 'doronell',\n",
    "          'elexon_id' : ['T_DOREW-1','T_DOREW-2']}\n",
    "\n",
    "start_date = config['start_date']\n",
    "end_date = config['end_date']\n",
    "repd_name = config['repd_name']\n",
    "elexon_id = config['elexon_id']\n",
    "\n",
    "met_ss_api = 'eyJ4NXQjUzI1NiI6Ik5XVTVZakUxTkRjeVl6a3hZbUl4TkdSaFpqSmpOV1l6T1dGaE9XWXpNMk0yTWpRek5USm1OVEE0TXpOaU9EaG1NVFJqWVdNellXUm1ZalUyTTJJeVpBPT0iLCJraWQiOiJnYXRld2F5X2NlcnRpZmljYXRlX2FsaWFzIiwidHlwIjoiSldUIiwiYWxnIjoiUlMyNTYifQ==.eyJzdWIiOiJGYXJxdWhhcnNvbmFyQGdtYWlsLmNvbUBjYXJib24uc3VwZXIiLCJhcHBsaWNhdGlvbiI6eyJvd25lciI6IkZhcnF1aGFyc29uYXJAZ21haWwuY29tIiwidGllclF1b3RhVHlwZSI6bnVsbCwidGllciI6IlVubGltaXRlZCIsIm5hbWUiOiJzaXRlX3NwZWNpZmljLTkwMDEzZmUxLWQ1YmUtNDFjOC04YWJiLTQ1Zjc2ZjI1MTdkZCIsImlkIjoyNTQ2MywidXVpZCI6ImRhMjBhMWNiLWVhOTItNDEzNS1hOGI0LTJkMDYxNDNjYzQwYSJ9LCJpc3MiOiJodHRwczpcL1wvYXBpLW1hbmFnZXIuYXBpLW1hbmFnZW1lbnQubWV0b2ZmaWNlLmNsb3VkOjQ0M1wvb2F1dGgyXC90b2tlbiIsInRpZXJJbmZvIjp7IndkaF9zaXRlX3NwZWNpZmljX2ZyZWUiOnsidGllclF1b3RhVHlwZSI6InJlcXVlc3RDb3VudCIsImdyYXBoUUxNYXhDb21wbGV4aXR5IjowLCJncmFwaFFMTWF4RGVwdGgiOjAsInN0b3BPblF1b3RhUmVhY2giOnRydWUsInNwaWtlQXJyZXN0TGltaXQiOjAsInNwaWtlQXJyZXN0VW5pdCI6InNlYyJ9fSwia2V5dHlwZSI6IlBST0RVQ1RJT04iLCJzdWJzY3JpYmVkQVBJcyI6W3sic3Vic2NyaWJlclRlbmFudERvbWFpbiI6ImNhcmJvbi5zdXBlciIsIm5hbWUiOiJTaXRlU3BlY2lmaWNGb3JlY2FzdCIsImNvbnRleHQiOiJcL3NpdGVzcGVjaWZpY1wvdjAiLCJwdWJsaXNoZXIiOiJKYWd1YXJfQ0kiLCJ2ZXJzaW9uIjoidjAiLCJzdWJzY3JpcHRpb25UaWVyIjoid2RoX3NpdGVfc3BlY2lmaWNfZnJlZSJ9XSwidG9rZW5fdHlwZSI6ImFwaUtleSIsImlhdCI6MTc1ODEyMDY3MywianRpIjoiNDIzMWE4N2QtNDhhNC00ZDAxLTg3YjctMmY5MWYwOTkwNTBiIn0=.PuBtkHdKKohOO9P2NuiS0r9KMAfnosx1w8kY1SvPZnS0-t_iA290CwlBOvI1L8dwl51jftt2k8pF6lqDQveFl4yQ2b_SZ9zjBy1nshSppnHO1HBZSgFgneat03-ueOettyZc5VQB425Zj0zqi7e01VAFaGMu8pmVYAJDKNFipg-lrgmXumgyOe1OtrLjc6JzPfNKk0hjDB4WUy_ds1XJ79YeucrQuyR507fTc8HF5wxMe5do7na26fboic3E5XdePNDPj_-i1vle-7nqCXwEn58OE75b2EwPDAtAhw5ntdxuzexXVeATOgjhpbCbsp3kDXWIWdLoUXidwiAxy7LW6g=='"
   ]
  },
  {
   "cell_type": "code",
   "execution_count": 15,
   "id": "f6de8dee",
   "metadata": {},
   "outputs": [
    {
     "data": {
      "text/html": [
       "<div>\n",
       "<style scoped>\n",
       "    .dataframe tbody tr th:only-of-type {\n",
       "        vertical-align: middle;\n",
       "    }\n",
       "\n",
       "    .dataframe tbody tr th {\n",
       "        vertical-align: top;\n",
       "    }\n",
       "\n",
       "    .dataframe thead th {\n",
       "        text-align: right;\n",
       "    }\n",
       "</style>\n",
       "<table border=\"1\" class=\"dataframe\">\n",
       "  <thead>\n",
       "    <tr style=\"text-align: right;\">\n",
       "      <th></th>\n",
       "      <th>Site Name</th>\n",
       "      <th>Address</th>\n",
       "      <th>Country</th>\n",
       "      <th>Post Code</th>\n",
       "      <th>X-coordinate</th>\n",
       "      <th>Y-coordinate</th>\n",
       "    </tr>\n",
       "  </thead>\n",
       "  <tbody>\n",
       "    <tr>\n",
       "      <th>0</th>\n",
       "      <td>Dorenell Wind Farm (Previously Site A and B Sc...</td>\n",
       "      <td>Glenlivet Estate, Dufftown, Speyside,  Moray</td>\n",
       "      <td>Scotland</td>\n",
       "      <td>NaN</td>\n",
       "      <td>332000</td>\n",
       "      <td>829500</td>\n",
       "    </tr>\n",
       "  </tbody>\n",
       "</table>\n",
       "</div>"
      ],
      "text/plain": [
       "                                           Site Name  \\\n",
       "0  Dorenell Wind Farm (Previously Site A and B Sc...   \n",
       "\n",
       "                                        Address   Country  Post Code  \\\n",
       "0  Glenlivet Estate, Dufftown, Speyside,  Moray  Scotland        NaN   \n",
       "\n",
       "   X-coordinate  Y-coordinate  \n",
       "0        332000        829500  "
      ]
     },
     "execution_count": 15,
     "metadata": {},
     "output_type": "execute_result"
    }
   ],
   "source": [
    "\n",
    "# wind farm of choice given that there are two but they are in the same location\n",
    "# Dorenell Wind Farm\n",
    "# 1. get locational data for Dorenell Wind Farm\n",
    "df_loc = pd.read_csv(f'{repd_name}_repd.csv')\n",
    "df_loc[['Site Name', 'Address', 'Country', 'Post Code',\t'X-coordinate',\t'Y-coordinate']]"
   ]
  },
  {
   "cell_type": "code",
   "execution_count": 16,
   "id": "2034047a",
   "metadata": {},
   "outputs": [
    {
     "name": "stderr",
     "output_type": "stream",
     "text": [
      "INFO:__main__:Calling BOAS API for None\n"
     ]
    },
    {
     "name": "stderr",
     "output_type": "stream",
     "text": [
      "INFO:__main__:Getting PN from 2025-01-01 00:00:00\n",
      "INFO:__main__:Getting BOALF from 2025-01-01 00:00:00\n"
     ]
    },
    {
     "data": {
      "text/html": [
       "<div>\n",
       "<style scoped>\n",
       "    .dataframe tbody tr th:only-of-type {\n",
       "        vertical-align: middle;\n",
       "    }\n",
       "\n",
       "    .dataframe tbody tr th {\n",
       "        vertical-align: top;\n",
       "    }\n",
       "\n",
       "    .dataframe thead th {\n",
       "        text-align: right;\n",
       "    }\n",
       "</style>\n",
       "<table border=\"1\" class=\"dataframe\">\n",
       "  <thead>\n",
       "    <tr style=\"text-align: right;\">\n",
       "      <th></th>\n",
       "      <th>recordType</th>\n",
       "      <th>settlementDate</th>\n",
       "      <th>settlementPeriod</th>\n",
       "      <th>timeFrom</th>\n",
       "      <th>timeTo</th>\n",
       "      <th>levelFrom</th>\n",
       "      <th>levelTo</th>\n",
       "      <th>Accept ID</th>\n",
       "      <th>acceptanceTime</th>\n",
       "      <th>deemedBidOfferFlag</th>\n",
       "      <th>soFlag</th>\n",
       "      <th>rrScheduleFlag</th>\n",
       "      <th>bmUnitID</th>\n",
       "      <th>local_datetime</th>\n",
       "    </tr>\n",
       "  </thead>\n",
       "  <tbody>\n",
       "    <tr>\n",
       "      <th>1864</th>\n",
       "      <td>PN</td>\n",
       "      <td>2024-12-31</td>\n",
       "      <td>48</td>\n",
       "      <td>2024-12-31T23:30:00Z</td>\n",
       "      <td>2025-01-01T00:00:00Z</td>\n",
       "      <td>96</td>\n",
       "      <td>96</td>\n",
       "      <td>NaN</td>\n",
       "      <td>NaN</td>\n",
       "      <td>NaN</td>\n",
       "      <td>NaN</td>\n",
       "      <td>NaN</td>\n",
       "      <td>T_DOREW-1</td>\n",
       "      <td>2024-12-31 23:30:00+00:00</td>\n",
       "    </tr>\n",
       "    <tr>\n",
       "      <th>1865</th>\n",
       "      <td>PN</td>\n",
       "      <td>2024-12-31</td>\n",
       "      <td>48</td>\n",
       "      <td>2024-12-31T23:30:00Z</td>\n",
       "      <td>2025-01-01T00:00:00Z</td>\n",
       "      <td>81</td>\n",
       "      <td>80</td>\n",
       "      <td>NaN</td>\n",
       "      <td>NaN</td>\n",
       "      <td>NaN</td>\n",
       "      <td>NaN</td>\n",
       "      <td>NaN</td>\n",
       "      <td>T_DOREW-2</td>\n",
       "      <td>2024-12-31 23:30:00+00:00</td>\n",
       "    </tr>\n",
       "  </tbody>\n",
       "</table>\n",
       "</div>"
      ],
      "text/plain": [
       "     recordType settlementDate  settlementPeriod              timeFrom  \\\n",
       "1864         PN     2024-12-31                48  2024-12-31T23:30:00Z   \n",
       "1865         PN     2024-12-31                48  2024-12-31T23:30:00Z   \n",
       "\n",
       "                    timeTo  levelFrom  levelTo  Accept ID acceptanceTime  \\\n",
       "1864  2025-01-01T00:00:00Z         96       96        NaN            NaN   \n",
       "1865  2025-01-01T00:00:00Z         81       80        NaN            NaN   \n",
       "\n",
       "     deemedBidOfferFlag soFlag rrScheduleFlag   bmUnitID  \\\n",
       "1864                NaN    NaN            NaN  T_DOREW-1   \n",
       "1865                NaN    NaN            NaN  T_DOREW-2   \n",
       "\n",
       "                local_datetime  \n",
       "1864 2024-12-31 23:30:00+00:00  \n",
       "1865 2024-12-31 23:30:00+00:00  "
      ]
     },
     "execution_count": 16,
     "metadata": {},
     "output_type": "execute_result"
    }
   ],
   "source": [
    "# 2. get PN data of doronell\n",
    "\n",
    "import concurrent.futures\n",
    "import logging\n",
    "import os\n",
    "import sqlite3\n",
    "import requests\n",
    "import time\n",
    "from pathlib import Path\n",
    "\n",
    "import numpy as np\n",
    "import pandas as pd\n",
    "from sqlalchemy import create_engine\n",
    "from sqlalchemy.exc import OperationalError, IntegrityError\n",
    "from sp2ts import dt2sp\n",
    "\n",
    "logging.basicConfig(level=logging.INFO)\n",
    "logger = logging.getLogger(__name__)\n",
    "\n",
    "\n",
    "\n",
    "def add_utc_timezone(datetime):\n",
    "    \"\"\" Add utc timezone to datetime. \"\"\"\n",
    "    if datetime.tzinfo is None:\n",
    "        datetime = datetime.tz_localize('UTC')\n",
    "    else:\n",
    "        datetime = datetime.tz_convert('UTC')\n",
    "    return datetime\n",
    "\n",
    "\n",
    "def call_physbm_api(start_date, end_date, unit=None):\n",
    "    \"\"\"Thin wrapper to allow kwarg passing with starmap\"\"\"\n",
    "    logger.info(f\"Calling BOAS API for {unit}\")\n",
    "\n",
    "    # Nedd to call PNs and BOALs separately in new API\n",
    "\n",
    "    # \"https://data.elexon.co.uk/bmrs/api/v1/balancing/physical/all?dataset={dataset}&settlementDate={settlementDate}&settlementPeriod={settlementPeriod}&format=json\"\n",
    "    datetimes = pd.date_range(start_date, end_date, freq=\"30min\")\n",
    "    data_df = []\n",
    "    for datetime in datetimes:\n",
    "        logger.info(f\"Getting PN from {datetime}\")\n",
    "\n",
    "        datetime = add_utc_timezone(datetime)\n",
    "\n",
    "        date, sp = dt2sp(datetime)\n",
    "        url = f\"https://data.elexon.co.uk/bmrs/api/v1/balancing/physical/all?dataset=PN&settlementDate={date}&settlementPeriod={sp}\"\n",
    "        if unit is not None:\n",
    "            url = url + f\"&bmUnit={unit}\"\n",
    "        url = url + \"&format=json\"\n",
    "\n",
    "        r = requests.get(url)\n",
    "\n",
    "        data_one_settlement_period_df = pd.DataFrame(r.json()[\"data\"])\n",
    "        data_df.append(data_one_settlement_period_df)\n",
    "\n",
    "    data_pn_df = pd.concat(data_df)\n",
    "\n",
    "    datetimes = pd.date_range(start_date, end_date, freq=\"30min\")\n",
    "    data_df = []\n",
    "    for datetime in datetimes:\n",
    "        logger.info(f\"Getting BOALF from {datetime}\")\n",
    "        boalf_end_datetime = (datetime + pd.Timedelta(minutes=30)).tz_localize(None)\n",
    "        boalf_start_datetime = (datetime - pd.Timedelta(minutes=30)).tz_localize(None)\n",
    "        url = f\"https://data.elexon.co.uk/bmrs/api/v1/datasets/BOALF?from={boalf_start_datetime}&to={boalf_end_datetime}\"\n",
    "        if unit is not None:\n",
    "            url = url + f\"&bmUnit={unit}\"\n",
    "        url = url + \"&format=json\"\n",
    "\n",
    "        r = requests.get(url)\n",
    "\n",
    "        data_one_settlement_period_df = pd.DataFrame(r.json()[\"data\"])\n",
    "        data_df.append(data_one_settlement_period_df)\n",
    "\n",
    "    data_boa_df = pd.concat(data_df)\n",
    "\n",
    "    # rename bmUnit to bmUnitID\n",
    "    data_pn_df.rename(columns={\"bmUnit\": \"bmUnitID\"}, inplace=True)\n",
    "    data_boa_df.rename(columns={\"bmUnit\": \"bmUnitID\"}, inplace=True)\n",
    "\n",
    "    # drop dataset column\n",
    "    data_boa_df.drop(columns=[\"nationalGridBmUnit\"], inplace=True)\n",
    "    data_pn_df.drop(columns=[\"nationalGridBmUnit\"], inplace=True)\n",
    "    data_boa_df.drop(columns=[\"settlementPeriodTo\"], inplace=True)\n",
    "    data_boa_df.drop(columns=[\"amendmentFlag\"], inplace=True)\n",
    "    data_boa_df.drop(columns=[\"storFlag\"], inplace=True)\n",
    "\n",
    "    # rename LevelFrom to bidOfferLevelFrom\n",
    "    data_pn_df.rename(columns={\"dataset\": \"recordType\"}, inplace=True)\n",
    "    data_boa_df.rename(columns={\"dataset\": \"recordType\"}, inplace=True)\n",
    "    data_boa_df.rename(columns={\"acceptanceNumber\": \"Accept ID\"}, inplace=True)\n",
    "    data_boa_df.rename(columns={\"settlementPeriodFrom\": \"settlementPeriod\"}, inplace=True)\n",
    "    data_boa_df.rename(columns={\"deemedBoFlag\": \"deemedBidOfferFlag\"}, inplace=True)\n",
    "    data_boa_df.rename(columns={\"rrFlag\": \"rrScheduleFlag\"}, inplace=True)\n",
    "\n",
    "    data_df = pd.concat([data_boa_df, data_pn_df], axis=0)\n",
    "    data_df['local_datetime'] = pd.to_datetime(data_df['timeFrom'])\n",
    "\n",
    "    # remove anything after end_date\n",
    "    data_df = data_df[data_df['local_datetime'] <= end_date]\n",
    "\n",
    "    return data_df\n",
    "\n",
    "\n",
    "# specific wind units only - bug fix with retries and also add aprallel api calls\n",
    "# df_bm_units = pd.read_csv('BMU.csv')\n",
    "# wind_units = df_bm_units[df_bm_units[\"FUEL TYPE\"] == \"WIND\"][\"SETT_BMU_ID\"].unique()\n",
    "# data_df=pd.DataFrame()\n",
    "# for unit in wind_units:\n",
    "#     data_df = pd.concat([data_df, call_physbm_api(start_date, end_date, unit)])\n",
    "\n",
    "data_df = call_physbm_api(start_date, end_date)\n",
    "data_df=data_df.sort_values(['recordType','bmUnitID','timeFrom'])\n",
    "data_df = data_df[data_df['bmUnitID'].isin(elexon_id)]\n",
    "data_df"
   ]
  },
  {
   "cell_type": "code",
   "execution_count": 25,
   "id": "d4a01c4b",
   "metadata": {},
   "outputs": [
    {
     "name": "stdout",
     "output_type": "stream",
     "text": [
      "-3.011912044445406 52.8811455063142\n"
     ]
    }
   ],
   "source": [
    "# 3. get weather data of doronell\n",
    "df_loc[['Site Name', 'Address', 'Country', 'Post Code',\t'X-coordinate',\t'Y-coordinate']]\n",
    "\n",
    "from pyproj import Transformer\n",
    "# Transformer from OSGB36 / British National Grid → WGS84 standard GPS\n",
    "transformer = Transformer.from_crs(\"EPSG:27700\", \"EPSG:4326\", always_xy=True)\n",
    "x, y = df_loc['X-coordinate'].iloc[0], df_loc['X-coordinate'].iloc[0]\n",
    "lon, lat = transformer.transform(x, y)\n",
    "print(lon, lat)"
   ]
  },
  {
   "cell_type": "code",
   "execution_count": null,
   "id": "1307e7db",
   "metadata": {},
   "outputs": [
    {
     "name": "stdout",
     "output_type": "stream",
     "text": [
      "{\"type\":\"FeatureCollection\",\"features\":[{\"type\":\"Feature\",\"geometry\":{\"type\":\"Point\",\"coordinates\":[-3.0551,52.8569,126.0]},\"properties\":{\"location\":{\"name\":\"Oswestry\"},\"requestPointDistance\":3959.8192,\"modelRunDate\":\"2025-09-17T14:00Z\",\"timeSeries\":[{\"time\":\"2025-09-17T12:00Z\",\"maxScreenAirTemp\":17.41,\"minScreenAirTemp\":15.36,\"max10mWindGust\":13.94,\"significantWeatherCode\":7,\"totalPrecipAmount\":0.25,\"totalSnowAmount\":0,\"windSpeed10m\":9.72,\"windDirectionFrom10m\":226,\"windGustSpeed10m\":12.86,\"visibility\":5944,\"mslp\":100980,\"screenRelativeHumidity\":96.82,\"feelsLikeTemp\":13.7,\"uvIndex\":3,\"probOfPrecipitation\":59,\"probOfSnow\":0,\"probOfHeavySnow\":0,\"probOfRain\":59,\"probOfHeavyRain\":29,\"probOfHail\":0,\"probOfSferics\":0},{\"time\":\"2025-09-17T15:00Z\",\"maxScreenAirTemp\":18.07,\"minScreenAirTemp\":17.36,\"max10mWindGust\":15.03,\"significantWeatherCode\":7,\"totalPrecipAmount\":0.0,\"totalSnowAmount\":0,\"windSpeed10m\":6.15,\"windDirectionFrom10m\":230,\"windGustSpeed10m\":13.21,\"visibility\":9911,\"mslp\":101065,\"screenRelativeHumidity\":85.03,\"feelsLikeTemp\":15.91,\"uvIndex\":2,\"probOfPrecipitation\":9,\"probOfSnow\":0,\"probOfHeavySnow\":0,\"probOfRain\":9,\"probOfHeavyRain\":1,\"probOfHail\":0,\"probOfSferics\":0},{\"time\":\"2025-09-17T18:00Z\",\"maxScreenAirTemp\":18.02,\"minScreenAirTemp\":15.42,\"max10mWindGust\":15.22,\"significantWeatherCode\":3,\"totalPrecipAmount\":0.0,\"totalSnowAmount\":0,\"windSpeed10m\":6.26,\"windDirectionFrom10m\":236,\"windGustSpeed10m\":14.74,\"visibility\":25232,\"mslp\":101120,\"screenRelativeHumidity\":79.23,\"feelsLikeTemp\":12.98,\"uvIndex\":1,\"probOfPrecipitation\":5,\"probOfSnow\":0,\"probOfHeavySnow\":0,\"probOfRain\":5,\"probOfHeavyRain\":1,\"probOfHail\":0,\"probOfSferics\":0},{\"time\":\"2025-09-17T21:00Z\",\"maxScreenAirTemp\":15.43,\"minScreenAirTemp\":13.77,\"max10mWindGust\":14.96,\"significantWeatherCode\":2,\"totalPrecipAmount\":0.0,\"totalSnowAmount\":0,\"windSpeed10m\":5.69,\"windDirectionFrom10m\":237,\"windGustSpeed10m\":13.65,\"visibility\":24852,\"mslp\":101254,\"screenRelativeHumidity\":85.77,\"feelsLikeTemp\":11.58,\"uvIndex\":0,\"probOfPrecipitation\":1,\"probOfSnow\":0,\"probOfHeavySnow\":0,\"probOfRain\":1,\"probOfHeavyRain\":1,\"probOfHail\":0,\"probOfSferics\":0},{\"time\":\"2025-09-18T00:00Z\",\"maxScreenAirTemp\":13.8,\"minScreenAirTemp\":13.27,\"max10mWindGust\":14.07,\"significantWeatherCode\":0,\"totalPrecipAmount\":0.0,\"totalSnowAmount\":0,\"windSpeed10m\":5.0,\"windDirectionFrom10m\":242,\"windGustSpeed10m\":12.42,\"visibility\":30556,\"mslp\":101343,\"screenRelativeHumidity\":87.03,\"feelsLikeTemp\":11.32,\"uvIndex\":0,\"probOfPrecipitation\":2,\"probOfSnow\":0,\"probOfHeavySnow\":0,\"probOfRain\":2,\"probOfHeavyRain\":1,\"probOfHail\":0,\"probOfSferics\":0},{\"time\":\"2025-09-18T03:00Z\",\"maxScreenAirTemp\":13.29,\"minScreenAirTemp\":12.87,\"max10mWindGust\":12.58,\"significantWeatherCode\":2,\"totalPrecipAmount\":0.0,\"totalSnowAmount\":0,\"windSpeed10m\":3.14,\"windDirectionFrom10m\":239,\"windGustSpeed10m\":9.96,\"visibility\":29039,\"mslp\":101350,\"screenRelativeHumidity\":89.79,\"feelsLikeTemp\":11.8,\"uvIndex\":0,\"probOfPrecipitation\":6,\"probOfSnow\":0,\"probOfHeavySnow\":0,\"probOfRain\":6,\"probOfHeavyRain\":4,\"probOfHail\":1,\"probOfSferics\":0},{\"time\":\"2025-09-18T06:00Z\",\"maxScreenAirTemp\":13.52,\"minScreenAirTemp\":12.9,\"max10mWindGust\":11.47,\"significantWeatherCode\":7,\"totalPrecipAmount\":0.0,\"totalSnowAmount\":0,\"windSpeed10m\":3.59,\"windDirectionFrom10m\":231,\"windGustSpeed10m\":10.03,\"visibility\":17873,\"mslp\":101384,\"screenRelativeHumidity\":93.57,\"feelsLikeTemp\":12.29,\"uvIndex\":1,\"probOfPrecipitation\":13,\"probOfSnow\":0,\"probOfHeavySnow\":0,\"probOfRain\":13,\"probOfHeavyRain\":6,\"probOfHail\":1,\"probOfSferics\":0},{\"time\":\"2025-09-18T09:00Z\",\"maxScreenAirTemp\":16.04,\"minScreenAirTemp\":13.51,\"max10mWindGust\":11.32,\"significantWeatherCode\":11,\"totalPrecipAmount\":0.08,\"totalSnowAmount\":0,\"windSpeed10m\":4.63,\"windDirectionFrom10m\":223,\"windGustSpeed10m\":10.98,\"visibility\":618,\"mslp\":101427,\"screenRelativeHumidity\":93.99,\"feelsLikeTemp\":14.63,\"uvIndex\":2,\"probOfPrecipitation\":79,\"probOfSnow\":0,\"probOfHeavySnow\":0,\"probOfRain\":79,\"probOfHeavyRain\":76,\"probOfHail\":15,\"probOfSferics\":8},{\"time\":\"2025-09-18T12:00Z\",\"maxScreenAirTemp\":18.52,\"minScreenAirTemp\":16.0,\"max10mWindGust\":13.78,\"significantWeatherCode\":15,\"totalPrecipAmount\":0.65,\"totalSnowAmount\":0,\"windSpeed10m\":6.28,\"windDirectionFrom10m\":224,\"windGustSpeed10m\":13.49,\"visibility\":18185,\"mslp\":101500,\"screenRelativeHumidity\":88.49,\"feelsLikeTemp\":16.38,\"uvIndex\":3,\"probOfPrecipitation\":78,\"probOfSnow\":0,\"probOfHeavySnow\":0,\"probOfRain\":78,\"probOfHeavyRain\":74,\"probOfHail\":14,\"probOfSferics\":7},{\"time\":\"2025-09-18T15:00Z\",\"maxScreenAirTemp\":19.31,\"minScreenAirTemp\":18.46,\"max10mWindGust\":13.85,\"significantWeatherCode\":7,\"totalPrecipAmount\":0.17,\"totalSnowAmount\":0,\"windSpeed10m\":5.43,\"windDirectionFrom10m\":213,\"windGustSpeed10m\":11.77,\"visibility\":34264,\"mslp\":101457,\"screenRelativeHumidity\":80.68,\"feelsLikeTemp\":17.49,\"uvIndex\":1,\"probOfPrecipitation\":15,\"probOfSnow\":0,\"probOfHeavySnow\":0,\"probOfRain\":15,\"probOfHeavyRain\":5,\"probOfHail\":0,\"probOfSferics\":0},{\"time\":\"2025-09-18T18:00Z\",\"maxScreenAirTemp\":19.24,\"minScreenAirTemp\":17.75,\"max10mWindGust\":13.05,\"significantWeatherCode\":7,\"totalPrecipAmount\":0.0,\"totalSnowAmount\":0,\"windSpeed10m\":5.39,\"windDirectionFrom10m\":217,\"windGustSpeed10m\":12.13,\"visibility\":29217,\"mslp\":101510,\"screenRelativeHumidity\":85.59,\"feelsLikeTemp\":16.07,\"uvIndex\":1,\"probOfPrecipitation\":10,\"probOfSnow\":0,\"probOfHeavySnow\":0,\"probOfRain\":10,\"probOfHeavyRain\":1,\"probOfHail\":0,\"probOfSferics\":0},{\"time\":\"2025-09-18T21:00Z\",\"maxScreenAirTemp\":17.76,\"minScreenAirTemp\":16.88,\"max10mWindGust\":13.39,\"significantWeatherCode\":7,\"totalPrecipAmount\":0.0,\"totalSnowAmount\":0,\"windSpeed10m\":5.35,\"windDirectionFrom10m\":213,\"windGustSpeed10m\":12.29,\"visibility\":32048,\"mslp\":101560,\"screenRelativeHumidity\":86.65,\"feelsLikeTemp\":15.15,\"uvIndex\":0,\"probOfPrecipitation\":6,\"probOfSnow\":0,\"probOfHeavySnow\":0,\"probOfRain\":6,\"probOfHeavyRain\":1,\"probOfHail\":0,\"probOfSferics\":0},{\"time\":\"2025-09-19T00:00Z\",\"maxScreenAirTemp\":16.89,\"minScreenAirTemp\":16.57,\"max10mWindGust\":13.99,\"significantWeatherCode\":7,\"totalPrecipAmount\":0.0,\"totalSnowAmount\":0,\"windSpeed10m\":5.48,\"windDirectionFrom10m\":214,\"windGustSpeed10m\":12.74,\"visibility\":33464,\"mslp\":101560,\"screenRelativeHumidity\":86.17,\"feelsLikeTemp\":14.75,\"uvIndex\":0,\"probOfPrecipitation\":5,\"probOfSnow\":0,\"probOfHeavySnow\":0,\"probOfRain\":5,\"probOfHeavyRain\":2,\"probOfHail\":0,\"probOfSferics\":0},{\"time\":\"2025-09-19T03:00Z\",\"maxScreenAirTemp\":16.6,\"minScreenAirTemp\":16.19,\"max10mWindGust\":14.99,\"significantWeatherCode\":7,\"totalPrecipAmount\":0.0,\"totalSnowAmount\":0,\"windSpeed10m\":5.79,\"windDirectionFrom10m\":208,\"windGustSpeed10m\":12.52,\"visibility\":30920,\"mslp\":101424,\"screenRelativeHumidity\":86.99,\"feelsLikeTemp\":14.21,\"uvIndex\":0,\"probOfPrecipitation\":6,\"probOfSnow\":0,\"probOfHeavySnow\":0,\"probOfRain\":6,\"probOfHeavyRain\":2,\"probOfHail\":0,\"probOfSferics\":0},{\"time\":\"2025-09-19T06:00Z\",\"maxScreenAirTemp\":16.22,\"minScreenAirTemp\":15.62,\"max10mWindGust\":14.17,\"significantWeatherCode\":7,\"totalPrecipAmount\":0.0,\"totalSnowAmount\":0,\"windSpeed10m\":5.09,\"windDirectionFrom10m\":205,\"windGustSpeed10m\":11.19,\"visibility\":29352,\"mslp\":101445,\"screenRelativeHumidity\":87.72,\"feelsLikeTemp\":13.89,\"uvIndex\":0,\"probOfPrecipitation\":7,\"probOfSnow\":0,\"probOfHeavySnow\":0,\"probOfRain\":7,\"probOfHeavyRain\":2,\"probOfHail\":0,\"probOfSferics\":0},{\"time\":\"2025-09-19T09:00Z\",\"maxScreenAirTemp\":16.87,\"minScreenAirTemp\":15.62,\"max10mWindGust\":12.94,\"significantWeatherCode\":7,\"totalPrecipAmount\":0.0,\"totalSnowAmount\":0,\"windSpeed10m\":5.53,\"windDirectionFrom10m\":209,\"windGustSpeed10m\":11.08,\"visibility\":23703,\"mslp\":101487,\"screenRelativeHumidity\":85.46,\"feelsLikeTemp\":14.96,\"uvIndex\":2,\"probOfPrecipitation\":9,\"probOfSnow\":0,\"probOfHeavySnow\":0,\"probOfRain\":9,\"probOfHeavyRain\":3,\"probOfHail\":0,\"probOfSferics\":0},{\"time\":\"2025-09-19T12:00Z\",\"maxScreenAirTemp\":18.51,\"minScreenAirTemp\":16.83,\"max10mWindGust\":11.5,\"significantWeatherCode\":8,\"totalPrecipAmount\":0.0,\"totalSnowAmount\":0,\"windSpeed10m\":5.71,\"windDirectionFrom10m\":210,\"windGustSpeed10m\":11.06,\"visibility\":24389,\"mslp\":101478,\"screenRelativeHumidity\":82.11,\"feelsLikeTemp\":16.54,\"uvIndex\":3,\"probOfPrecipitation\":15,\"probOfSnow\":0,\"probOfHeavySnow\":0,\"probOfRain\":15,\"probOfHeavyRain\":4,\"probOfHail\":0,\"probOfSferics\":1},{\"time\":\"2025-09-19T15:00Z\",\"maxScreenAirTemp\":19.15,\"minScreenAirTemp\":18.51,\"max10mWindGust\":10.43,\"significantWeatherCode\":12,\"totalPrecipAmount\":0.14,\"totalSnowAmount\":0,\"windSpeed10m\":4.25,\"windDirectionFrom10m\":219,\"windGustSpeed10m\":9.1,\"visibility\":26735,\"mslp\":101451,\"screenRelativeHumidity\":80.99,\"feelsLikeTemp\":17.72,\"uvIndex\":1,\"probOfPrecipitation\":48,\"probOfSnow\":0,\"probOfHeavySnow\":0,\"probOfRain\":48,\"probOfHeavyRain\":25,\"probOfHail\":0,\"probOfSferics\":4},{\"time\":\"2025-09-19T18:00Z\",\"maxScreenAirTemp\":18.83,\"minScreenAirTemp\":17.22,\"max10mWindGust\":9.81,\"significantWeatherCode\":7,\"totalPrecipAmount\":0.0,\"totalSnowAmount\":0,\"windSpeed10m\":3.39,\"windDirectionFrom10m\":224,\"windGustSpeed10m\":6.89,\"visibility\":22374,\"mslp\":101440,\"screenRelativeHumidity\":85.43,\"feelsLikeTemp\":16.58,\"uvIndex\":1,\"probOfPrecipitation\":19,\"probOfSnow\":0,\"probOfHeavySnow\":0,\"probOfRain\":19,\"probOfHeavyRain\":8,\"probOfHail\":0,\"probOfSferics\":0},{\"time\":\"2025-09-19T21:00Z\",\"maxScreenAirTemp\":17.36,\"minScreenAirTemp\":16.04,\"max10mWindGust\":7.51,\"significantWeatherCode\":8,\"totalPrecipAmount\":0.0,\"totalSnowAmount\":0,\"windSpeed10m\":2.93,\"windDirectionFrom10m\":204,\"windGustSpeed10m\":5.53,\"visibility\":17026,\"mslp\":101436,\"screenRelativeHumidity\":90.39,\"feelsLikeTemp\":15.62,\"uvIndex\":0,\"probOfPrecipitation\":16,\"probOfSnow\":0,\"probOfHeavySnow\":0,\"probOfRain\":16,\"probOfHeavyRain\":7,\"probOfHail\":1,\"probOfSferics\":1},{\"time\":\"2025-09-20T00:00Z\",\"maxScreenAirTemp\":16.08,\"minScreenAirTemp\":15.3,\"max10mWindGust\":6.7,\"significantWeatherCode\":7,\"totalPrecipAmount\":0.0,\"totalSnowAmount\":0,\"windSpeed10m\":2.54,\"windDirectionFrom10m\":201,\"windGustSpeed10m\":4.85,\"visibility\":13257,\"mslp\":101373,\"screenRelativeHumidity\":92.4,\"feelsLikeTemp\":15.04,\"uvIndex\":0,\"probOfPrecipitation\":19,\"probOfSnow\":0,\"probOfHeavySnow\":0,\"probOfRain\":19,\"probOfHeavyRain\":12,\"probOfHail\":2,\"probOfSferics\":1},{\"time\":\"2025-09-20T03:00Z\",\"maxScreenAirTemp\":15.37,\"minScreenAirTemp\":14.5,\"max10mWindGust\":5.35,\"significantWeatherCode\":7,\"totalPrecipAmount\":0.0,\"totalSnowAmount\":0,\"windSpeed10m\":1.84,\"windDirectionFrom10m\":217,\"windGustSpeed10m\":3.59,\"visibility\":9951,\"mslp\":101225,\"screenRelativeHumidity\":94.14,\"feelsLikeTemp\":14.53,\"uvIndex\":0,\"probOfPrecipitation\":24,\"probOfSnow\":0,\"probOfHeavySnow\":0,\"probOfRain\":24,\"probOfHeavyRain\":17,\"probOfHail\":3,\"probOfSferics\":2},{\"time\":\"2025-09-20T06:00Z\",\"maxScreenAirTemp\":14.59,\"minScreenAirTemp\":13.66,\"max10mWindGust\":5.43,\"significantWeatherCode\":12,\"totalPrecipAmount\":1.22,\"totalSnowAmount\":0,\"windSpeed10m\":2.29,\"windDirectionFrom10m\":28,\"windGustSpeed10m\":4.25,\"visibility\":8887,\"mslp\":101133,\"screenRelativeHumidity\":94.97,\"feelsLikeTemp\":13.27,\"uvIndex\":0,\"probOfPrecipitation\":49,\"probOfSnow\":0,\"probOfHeavySnow\":0,\"probOfRain\":49,\"probOfHeavyRain\":30,\"probOfHail\":2,\"probOfSferics\":2},{\"time\":\"2025-09-20T09:00Z\",\"maxScreenAirTemp\":14.14,\"minScreenAirTemp\":13.72,\"max10mWindGust\":6.59,\"significantWeatherCode\":15,\"totalPrecipAmount\":1.51,\"totalSnowAmount\":0,\"windSpeed10m\":3.02,\"windDirectionFrom10m\":316,\"windGustSpeed10m\":6.09,\"visibility\":10793,\"mslp\":101083,\"screenRelativeHumidity\":91.96,\"feelsLikeTemp\":13.23,\"uvIndex\":1,\"probOfPrecipitation\":77,\"probOfSnow\":0,\"probOfHeavySnow\":0,\"probOfRain\":77,\"probOfHeavyRain\":71,\"probOfHail\":14,\"probOfSferics\":7},{\"time\":\"2025-09-20T12:00Z\",\"maxScreenAirTemp\":14.72,\"minScreenAirTemp\":14.06,\"max10mWindGust\":8.9,\"significantWeatherCode\":15,\"totalPrecipAmount\":2.08,\"totalSnowAmount\":0,\"windSpeed10m\":3.91,\"windDirectionFrom10m\":14,\"windGustSpeed10m\":7.87,\"visibility\":8683,\"mslp\":100928,\"screenRelativeHumidity\":88.54,\"feelsLikeTemp\":13.34,\"uvIndex\":2,\"probOfPrecipitation\":77,\"probOfSnow\":0,\"probOfHeavySnow\":0,\"probOfRain\":77,\"probOfHeavyRain\":72,\"probOfHail\":14,\"probOfSferics\":8},{\"time\":\"2025-09-20T15:00Z\",\"maxScreenAirTemp\":15.06,\"minScreenAirTemp\":14.6,\"max10mWindGust\":11.05,\"significantWeatherCode\":12,\"totalPrecipAmount\":2.51,\"totalSnowAmount\":0,\"windSpeed10m\":4.53,\"windDirectionFrom10m\":357,\"windGustSpeed10m\":9.19,\"visibility\":13729,\"mslp\":100741,\"screenRelativeHumidity\":86.25,\"feelsLikeTemp\":13.42,\"uvIndex\":1,\"probOfPrecipitation\":60,\"probOfSnow\":0,\"probOfHeavySnow\":0,\"probOfRain\":60,\"probOfHeavyRain\":40,\"probOfHail\":5,\"probOfSferics\":4},{\"time\":\"2025-09-20T18:00Z\",\"maxScreenAirTemp\":14.89,\"minScreenAirTemp\":13.03,\"max10mWindGust\":11.72,\"significantWeatherCode\":14,\"totalPrecipAmount\":1.84,\"totalSnowAmount\":0,\"windSpeed10m\":4.95,\"windDirectionFrom10m\":346,\"windGustSpeed10m\":9.58,\"visibility\":13726,\"mslp\":100693,\"screenRelativeHumidity\":88.99,\"feelsLikeTemp\":11.21,\"uvIndex\":1,\"probOfPrecipitation\":60,\"probOfSnow\":0,\"probOfHeavySnow\":0,\"probOfRain\":60,\"probOfHeavyRain\":56,\"probOfHail\":11,\"probOfSferics\":10},{\"time\":\"2025-09-20T21:00Z\",\"maxScreenAirTemp\":13.08,\"minScreenAirTemp\":11.47,\"max10mWindGust\":11.23,\"significantWeatherCode\":9,\"totalPrecipAmount\":2.51,\"totalSnowAmount\":0,\"windSpeed10m\":5.44,\"windDirectionFrom10m\":326,\"windGustSpeed10m\":10.34,\"visibility\":11931,\"mslp\":100733,\"screenRelativeHumidity\":89.78,\"feelsLikeTemp\":9.3,\"uvIndex\":0,\"probOfPrecipitation\":42,\"probOfSnow\":0,\"probOfHeavySnow\":0,\"probOfRain\":42,\"probOfHeavyRain\":29,\"probOfHail\":4,\"probOfSferics\":5},{\"time\":\"2025-09-21T00:00Z\",\"maxScreenAirTemp\":11.52,\"minScreenAirTemp\":10.44,\"max10mWindGust\":12.15,\"significantWeatherCode\":13,\"totalPrecipAmount\":2.22,\"totalSnowAmount\":0,\"windSpeed10m\":5.51,\"windDirectionFrom10m\":329,\"windGustSpeed10m\":10.5,\"visibility\":10267,\"mslp\":100780,\"screenRelativeHumidity\":90.98,\"feelsLikeTemp\":8.17,\"uvIndex\":0,\"probOfPrecipitation\":58,\"probOfSnow\":0,\"probOfHeavySnow\":0,\"probOfRain\":58,\"probOfHeavyRain\":54,\"probOfHail\":11,\"probOfSferics\":10},{\"time\":\"2025-09-21T03:00Z\",\"maxScreenAirTemp\":10.5,\"minScreenAirTemp\":9.53,\"max10mWindGust\":11.99,\"significantWeatherCode\":15,\"totalPrecipAmount\":2.04,\"totalSnowAmount\":0,\"windSpeed10m\":5.72,\"windDirectionFrom10m\":332,\"windGustSpeed10m\":10.98,\"visibility\":10492,\"mslp\":100891,\"screenRelativeHumidity\":90.38,\"feelsLikeTemp\":7.09,\"uvIndex\":0,\"probOfPrecipitation\":70,\"probOfSnow\":0,\"probOfHeavySnow\":0,\"probOfRain\":70,\"probOfHeavyRain\":66,\"probOfHail\":13,\"probOfSferics\":7},{\"time\":\"2025-09-21T06:00Z\",\"maxScreenAirTemp\":9.62,\"minScreenAirTemp\":8.64,\"max10mWindGust\":13.16,\"significantWeatherCode\":15,\"totalPrecipAmount\":1.5,\"totalSnowAmount\":0,\"windSpeed10m\":5.91,\"windDirectionFrom10m\":321,\"windGustSpeed10m\":11.38,\"visibility\":10886,\"mslp\":101146,\"screenRelativeHumidity\":89.48,\"feelsLikeTemp\":5.91,\"uvIndex\":0,\"probOfPrecipitation\":68,\"probOfSnow\":0,\"probOfHeavySnow\":0,\"probOfRain\":68,\"probOfHeavyRain\":63,\"probOfHail\":12,\"probOfSferics\":6},{\"time\":\"2025-09-21T09:00Z\",\"maxScreenAirTemp\":9.74,\"minScreenAirTemp\":8.72,\"max10mWindGust\":12.54,\"significantWeatherCode\":15,\"totalPrecipAmount\":1.39,\"totalSnowAmount\":0,\"windSpeed10m\":5.89,\"windDirectionFrom10m\":323,\"windGustSpeed10m\":11.48,\"visibility\":13233,\"mslp\":101428,\"screenRelativeHumidity\":83.55,\"feelsLikeTemp\":6.91,\"uvIndex\":1,\"probOfPrecipitation\":69,\"probOfSnow\":0,\"probOfHeavySnow\":0,\"probOfRain\":69,\"probOfHeavyRain\":64,\"probOfHail\":12,\"probOfSferics\":7},{\"time\":\"2025-09-21T12:00Z\",\"maxScreenAirTemp\":11.11,\"minScreenAirTemp\":9.68,\"max10mWindGust\":13.98,\"significantWeatherCode\":10,\"totalPrecipAmount\":1.18,\"totalSnowAmount\":0,\"windSpeed10m\":5.86,\"windDirectionFrom10m\":325,\"windGustSpeed10m\":11.76,\"visibility\":16225,\"mslp\":101609,\"screenRelativeHumidity\":74.26,\"feelsLikeTemp\":8.36,\"uvIndex\":3,\"probOfPrecipitation\":39,\"probOfSnow\":0,\"probOfHeavySnow\":0,\"probOfRain\":39,\"probOfHeavyRain\":23,\"probOfHail\":2,\"probOfSferics\":4},{\"time\":\"2025-09-21T15:00Z\",\"maxScreenAirTemp\":11.62,\"minScreenAirTemp\":11.02,\"max10mWindGust\":12.77,\"significantWeatherCode\":10,\"totalPrecipAmount\":0.9,\"totalSnowAmount\":0,\"windSpeed10m\":5.51,\"windDirectionFrom10m\":328,\"windGustSpeed10m\":10.91,\"visibility\":18071,\"mslp\":101718,\"screenRelativeHumidity\":70.84,\"feelsLikeTemp\":8.94,\"uvIndex\":1,\"probOfPrecipitation\":39,\"probOfSnow\":0,\"probOfHeavySnow\":0,\"probOfRain\":39,\"probOfHeavyRain\":23,\"probOfHail\":2,\"probOfSferics\":4},{\"time\":\"2025-09-21T18:00Z\",\"maxScreenAirTemp\":11.42,\"minScreenAirTemp\":9.92,\"max10mWindGust\":11.97,\"significantWeatherCode\":1,\"totalPrecipAmount\":0.0,\"totalSnowAmount\":0,\"windSpeed10m\":4.16,\"windDirectionFrom10m\":323,\"windGustSpeed10m\":8.12,\"visibility\":24158,\"mslp\":101862,\"screenRelativeHumidity\":76.54,\"feelsLikeTemp\":8.02,\"uvIndex\":1,\"probOfPrecipitation\":13,\"probOfSnow\":0,\"probOfHeavySnow\":0,\"probOfRain\":13,\"probOfHeavyRain\":9,\"probOfHail\":1,\"probOfSferics\":1},{\"time\":\"2025-09-21T21:00Z\",\"maxScreenAirTemp\":10.04,\"minScreenAirTemp\":8.81,\"max10mWindGust\":9.21,\"significantWeatherCode\":0,\"totalPrecipAmount\":0.0,\"totalSnowAmount\":0,\"windSpeed10m\":3.75,\"windDirectionFrom10m\":320,\"windGustSpeed10m\":7.35,\"visibility\":23828,\"mslp\":102048,\"screenRelativeHumidity\":80.32,\"feelsLikeTemp\":6.94,\"uvIndex\":0,\"probOfPrecipitation\":10,\"probOfSnow\":0,\"probOfHeavySnow\":0,\"probOfRain\":10,\"probOfHeavyRain\":7,\"probOfHail\":1,\"probOfSferics\":1},{\"time\":\"2025-09-22T00:00Z\",\"maxScreenAirTemp\":8.92,\"minScreenAirTemp\":8.18,\"max10mWindGust\":8.31,\"significantWeatherCode\":0,\"totalPrecipAmount\":0.0,\"totalSnowAmount\":0,\"windSpeed10m\":3.76,\"windDirectionFrom10m\":321,\"windGustSpeed10m\":7.33,\"visibility\":23793,\"mslp\":102130,\"screenRelativeHumidity\":82.41,\"feelsLikeTemp\":6.17,\"uvIndex\":0,\"probOfPrecipitation\":8,\"probOfSnow\":0,\"probOfHeavySnow\":0,\"probOfRain\":8,\"probOfHeavyRain\":5,\"probOfHail\":1,\"probOfSferics\":0},{\"time\":\"2025-09-22T03:00Z\",\"maxScreenAirTemp\":8.27,\"minScreenAirTemp\":7.66,\"max10mWindGust\":7.83,\"significantWeatherCode\":0,\"totalPrecipAmount\":0.0,\"totalSnowAmount\":0,\"windSpeed10m\":3.67,\"windDirectionFrom10m\":321,\"windGustSpeed10m\":7.18,\"visibility\":24623,\"mslp\":102207,\"screenRelativeHumidity\":84.02,\"feelsLikeTemp\":5.52,\"uvIndex\":0,\"probOfPrecipitation\":5,\"probOfSnow\":0,\"probOfHeavySnow\":0,\"probOfRain\":5,\"probOfHeavyRain\":3,\"probOfHail\":0,\"probOfSferics\":0},{\"time\":\"2025-09-22T06:00Z\",\"maxScreenAirTemp\":7.68,\"minScreenAirTemp\":7.11,\"max10mWindGust\":7.58,\"significantWeatherCode\":0,\"totalPrecipAmount\":0.0,\"totalSnowAmount\":0,\"windSpeed10m\":3.39,\"windDirectionFrom10m\":311,\"windGustSpeed10m\":6.75,\"visibility\":23600,\"mslp\":102307,\"screenRelativeHumidity\":85.32,\"feelsLikeTemp\":5.13,\"uvIndex\":0,\"probOfPrecipitation\":4,\"probOfSnow\":0,\"probOfHeavySnow\":0,\"probOfRain\":4,\"probOfHeavyRain\":3,\"probOfHail\":0,\"probOfSferics\":0},{\"time\":\"2025-09-22T09:00Z\",\"maxScreenAirTemp\":10.19,\"minScreenAirTemp\":7.24,\"max10mWindGust\":9.55,\"significantWeatherCode\":1,\"totalPrecipAmount\":0.0,\"totalSnowAmount\":0,\"windSpeed10m\":4.54,\"windDirectionFrom10m\":12,\"windGustSpeed10m\":9.41,\"visibility\":26639,\"mslp\":102439,\"screenRelativeHumidity\":73.78,\"feelsLikeTemp\":8.05,\"uvIndex\":2,\"probOfPrecipitation\":4,\"probOfSnow\":0,\"probOfHeavySnow\":0,\"probOfRain\":4,\"probOfHeavyRain\":3,\"probOfHail\":1,\"probOfSferics\":0},{\"time\":\"2025-09-22T12:00Z\",\"maxScreenAirTemp\":12.38,\"minScreenAirTemp\":10.19,\"max10mWindGust\":11.04,\"significantWeatherCode\":3,\"totalPrecipAmount\":0.0,\"totalSnowAmount\":0,\"windSpeed10m\":4.97,\"windDirectionFrom10m\":21,\"windGustSpeed10m\":10.6,\"visibility\":24485,\"mslp\":102472,\"screenRelativeHumidity\":61.35,\"feelsLikeTemp\":10.15,\"uvIndex\":3,\"probOfPrecipitation\":6,\"probOfSnow\":0,\"probOfHeavySnow\":0,\"probOfRain\":6,\"probOfHeavyRain\":3,\"probOfHail\":1,\"probOfSferics\":1},{\"time\":\"2025-09-22T15:00Z\",\"maxScreenAirTemp\":12.73,\"minScreenAirTemp\":12.38,\"max10mWindGust\":10.96,\"significantWeatherCode\":3,\"totalPrecipAmount\":0.0,\"totalSnowAmount\":0,\"windSpeed10m\":4.8,\"windDirectionFrom10m\":17,\"windGustSpeed10m\":9.76,\"visibility\":25757,\"mslp\":102470,\"screenRelativeHumidity\":59.15,\"feelsLikeTemp\":10.45,\"uvIndex\":1,\"probOfPrecipitation\":7,\"probOfSnow\":0,\"probOfHeavySnow\":0,\"probOfRain\":7,\"probOfHeavyRain\":5,\"probOfHail\":1,\"probOfSferics\":1},{\"time\":\"2025-09-22T18:00Z\",\"maxScreenAirTemp\":12.62,\"minScreenAirTemp\":10.42,\"max10mWindGust\":10.05,\"significantWeatherCode\":1,\"totalPrecipAmount\":0.0,\"totalSnowAmount\":0,\"windSpeed10m\":3.65,\"windDirectionFrom10m\":4,\"windGustSpeed10m\":7.21,\"visibility\":25766,\"mslp\":102529,\"screenRelativeHumidity\":69.89,\"feelsLikeTemp\":8.67,\"uvIndex\":1,\"probOfPrecipitation\":5,\"probOfSnow\":0,\"probOfHeavySnow\":0,\"probOfRain\":5,\"probOfHeavyRain\":3,\"probOfHail\":0,\"probOfSferics\":0},{\"time\":\"2025-09-22T21:00Z\",\"maxScreenAirTemp\":10.43,\"minScreenAirTemp\":8.67,\"max10mWindGust\":7.55,\"significantWeatherCode\":0,\"totalPrecipAmount\":0.0,\"totalSnowAmount\":0,\"windSpeed10m\":2.96,\"windDirectionFrom10m\":0,\"windGustSpeed10m\":5.86,\"visibility\":23971,\"mslp\":102626,\"screenRelativeHumidity\":77.24,\"feelsLikeTemp\":7.1,\"uvIndex\":0,\"probOfPrecipitation\":4,\"probOfSnow\":0,\"probOfHeavySnow\":0,\"probOfRain\":4,\"probOfHeavyRain\":2,\"probOfHail\":0,\"probOfSferics\":0},{\"time\":\"2025-09-23T00:00Z\",\"maxScreenAirTemp\":8.71,\"minScreenAirTemp\":7.33,\"max10mWindGust\":6.32,\"significantWeatherCode\":0,\"totalPrecipAmount\":0.0,\"totalSnowAmount\":0,\"windSpeed10m\":2.38,\"windDirectionFrom10m\":350,\"windGustSpeed10m\":4.68,\"visibility\":23983,\"mslp\":102620,\"screenRelativeHumidity\":83.62,\"feelsLikeTemp\":5.94,\"uvIndex\":0,\"probOfPrecipitation\":3,\"probOfSnow\":0,\"probOfHeavySnow\":0,\"probOfRain\":3,\"probOfHeavyRain\":1,\"probOfHail\":0,\"probOfSferics\":0},{\"time\":\"2025-09-23T03:00Z\",\"maxScreenAirTemp\":7.38,\"minScreenAirTemp\":6.56,\"max10mWindGust\":5.26,\"significantWeatherCode\":0,\"totalPrecipAmount\":0.0,\"totalSnowAmount\":0,\"windSpeed10m\":2.31,\"windDirectionFrom10m\":335,\"windGustSpeed10m\":4.44,\"visibility\":23393,\"mslp\":102598,\"screenRelativeHumidity\":86.3,\"feelsLikeTemp\":5.21,\"uvIndex\":0,\"probOfPrecipitation\":3,\"probOfSnow\":0,\"probOfHeavySnow\":0,\"probOfRain\":3,\"probOfHeavyRain\":2,\"probOfHail\":0,\"probOfSferics\":0},{\"time\":\"2025-09-23T06:00Z\",\"maxScreenAirTemp\":6.7,\"minScreenAirTemp\":6.13,\"max10mWindGust\":5.08,\"significantWeatherCode\":0,\"totalPrecipAmount\":0.0,\"totalSnowAmount\":0,\"windSpeed10m\":2.27,\"windDirectionFrom10m\":322,\"windGustSpeed10m\":4.37,\"visibility\":21942,\"mslp\":102614,\"screenRelativeHumidity\":88.46,\"feelsLikeTemp\":4.63,\"uvIndex\":0,\"probOfPrecipitation\":3,\"probOfSnow\":0,\"probOfHeavySnow\":0,\"probOfRain\":3,\"probOfHeavyRain\":2,\"probOfHail\":0,\"probOfSferics\":0},{\"time\":\"2025-09-23T09:00Z\",\"maxScreenAirTemp\":10.36,\"minScreenAirTemp\":6.17,\"max10mWindGust\":7.01,\"significantWeatherCode\":1,\"totalPrecipAmount\":0.0,\"totalSnowAmount\":0,\"windSpeed10m\":3.03,\"windDirectionFrom10m\":0,\"windGustSpeed10m\":6.57,\"visibility\":25760,\"mslp\":102647,\"screenRelativeHumidity\":76.1,\"feelsLikeTemp\":8.97,\"uvIndex\":2,\"probOfPrecipitation\":5,\"probOfSnow\":0,\"probOfHeavySnow\":0,\"probOfRain\":5,\"probOfHeavyRain\":3,\"probOfHail\":0,\"probOfSferics\":0},{\"time\":\"2025-09-23T12:00Z\",\"maxScreenAirTemp\":13.24,\"minScreenAirTemp\":10.36,\"max10mWindGust\":9.38,\"significantWeatherCode\":3,\"totalPrecipAmount\":0.0,\"totalSnowAmount\":0,\"windSpeed10m\":4.03,\"windDirectionFrom10m\":16,\"windGustSpeed10m\":8.73,\"visibility\":26587,\"mslp\":102609,\"screenRelativeHumidity\":65.05,\"feelsLikeTemp\":11.49,\"uvIndex\":3,\"probOfPrecipitation\":5,\"probOfSnow\":0,\"probOfHeavySnow\":0,\"probOfRain\":5,\"probOfHeavyRain\":3,\"probOfHail\":0,\"probOfSferics\":0},{\"time\":\"2025-09-23T15:00Z\",\"maxScreenAirTemp\":13.52,\"minScreenAirTemp\":13.22,\"max10mWindGust\":9.69,\"significantWeatherCode\":3,\"totalPrecipAmount\":0.0,\"totalSnowAmount\":0,\"windSpeed10m\":3.97,\"windDirectionFrom10m\":30,\"windGustSpeed10m\":8.3,\"visibility\":26845,\"mslp\":102532,\"screenRelativeHumidity\":65.45,\"feelsLikeTemp\":11.68,\"uvIndex\":1,\"probOfPrecipitation\":6,\"probOfSnow\":0,\"probOfHeavySnow\":0,\"probOfRain\":6,\"probOfHeavyRain\":2,\"probOfHail\":0,\"probOfSferics\":0},{\"time\":\"2025-09-23T18:00Z\",\"maxScreenAirTemp\":13.39,\"minScreenAirTemp\":11.48,\"max10mWindGust\":9.01,\"significantWeatherCode\":3,\"totalPrecipAmount\":0.0,\"totalSnowAmount\":0,\"windSpeed10m\":3.15,\"windDirectionFrom10m\":22,\"windGustSpeed10m\":6.14,\"visibility\":25446,\"mslp\":102512,\"screenRelativeHumidity\":76.98,\"feelsLikeTemp\":10.14,\"uvIndex\":1,\"probOfPrecipitation\":5,\"probOfSnow\":0,\"probOfHeavySnow\":0,\"probOfRain\":5,\"probOfHeavyRain\":3,\"probOfHail\":0,\"probOfSferics\":0},{\"time\":\"2025-09-23T21:00Z\",\"maxScreenAirTemp\":11.48,\"minScreenAirTemp\":9.75,\"max10mWindGust\":6.78,\"significantWeatherCode\":7,\"totalPrecipAmount\":0.0,\"totalSnowAmount\":0,\"windSpeed10m\":2.78,\"windDirectionFrom10m\":10,\"windGustSpeed10m\":5.49,\"visibility\":21070,\"mslp\":102540,\"screenRelativeHumidity\":83.96,\"feelsLikeTemp\":8.56,\"uvIndex\":0,\"probOfPrecipitation\":8,\"probOfSnow\":0,\"probOfHeavySnow\":0,\"probOfRain\":8,\"probOfHeavyRain\":4,\"probOfHail\":0,\"probOfSferics\":0},{\"time\":\"2025-09-24T00:00Z\",\"maxScreenAirTemp\":9.88,\"minScreenAirTemp\":8.7,\"max10mWindGust\":6.26,\"significantWeatherCode\":7,\"totalPrecipAmount\":0.0,\"totalSnowAmount\":0,\"windSpeed10m\":2.53,\"windDirectionFrom10m\":338,\"windGustSpeed10m\":5.0,\"visibility\":21508,\"mslp\":102511,\"screenRelativeHumidity\":89.17,\"feelsLikeTemp\":7.49,\"uvIndex\":0,\"probOfPrecipitation\":8,\"probOfSnow\":0,\"probOfHeavySnow\":0,\"probOfRain\":8,\"probOfHeavyRain\":4,\"probOfHail\":1,\"probOfSferics\":0},{\"time\":\"2025-09-24T03:00Z\",\"maxScreenAirTemp\":8.8,\"minScreenAirTemp\":8.38,\"max10mWindGust\":5.77,\"significantWeatherCode\":8,\"totalPrecipAmount\":0.0,\"totalSnowAmount\":0,\"windSpeed10m\":2.58,\"windDirectionFrom10m\":334,\"windGustSpeed10m\":5.03,\"visibility\":19364,\"mslp\":102430,\"screenRelativeHumidity\":90.73,\"feelsLikeTemp\":7.14,\"uvIndex\":0,\"probOfPrecipitation\":11,\"probOfSnow\":0,\"probOfHeavySnow\":0,\"probOfRain\":11,\"probOfHeavyRain\":3,\"probOfHail\":0,\"probOfSferics\":0},{\"time\":\"2025-09-24T06:00Z\",\"maxScreenAirTemp\":8.49,\"minScreenAirTemp\":8.22,\"max10mWindGust\":5.68,\"significantWeatherCode\":7,\"totalPrecipAmount\":0.0,\"totalSnowAmount\":0,\"windSpeed10m\":2.51,\"windDirectionFrom10m\":341,\"windGustSpeed10m\":4.86,\"visibility\":17718,\"mslp\":102414,\"screenRelativeHumidity\":91.92,\"feelsLikeTemp\":6.93,\"uvIndex\":0,\"probOfPrecipitation\":8,\"probOfSnow\":0,\"probOfHeavySnow\":0,\"probOfRain\":8,\"probOfHeavyRain\":3,\"probOfHail\":0,\"probOfSferics\":0},{\"time\":\"2025-09-24T09:00Z\",\"maxScreenAirTemp\":11.3,\"minScreenAirTemp\":8.28,\"max10mWindGust\":6.92,\"significantWeatherCode\":7,\"totalPrecipAmount\":0.0,\"totalSnowAmount\":0,\"windSpeed10m\":3.09,\"windDirectionFrom10m\":342,\"windGustSpeed10m\":6.52,\"visibility\":22718,\"mslp\":102423,\"screenRelativeHumidity\":83.34,\"feelsLikeTemp\":10.0,\"uvIndex\":2,\"probOfPrecipitation\":9,\"probOfSnow\":0,\"probOfHeavySnow\":0,\"probOfRain\":9,\"probOfHeavyRain\":3,\"probOfHail\":0,\"probOfSferics\":0},{\"time\":\"2025-09-24T12:00Z\",\"maxScreenAirTemp\":13.9,\"minScreenAirTemp\":11.3,\"max10mWindGust\":9.15,\"significantWeatherCode\":7,\"totalPrecipAmount\":0.0,\"totalSnowAmount\":0,\"windSpeed10m\":3.91,\"windDirectionFrom10m\":7,\"windGustSpeed10m\":8.29,\"visibility\":24213,\"mslp\":102375,\"screenRelativeHumidity\":71.97,\"feelsLikeTemp\":12.29,\"uvIndex\":2,\"probOfPrecipitation\":9,\"probOfSnow\":0,\"probOfHeavySnow\":0,\"probOfRain\":9,\"probOfHeavyRain\":3,\"probOfHail\":0,\"probOfSferics\":0}]}}],\"parameters\":[{\"totalSnowAmount\":{\"type\":\"Parameter\",\"description\":\"Total Snow Amount Over Previous Three Hours\",\"unit\":{\"label\":\"millimetres\",\"symbol\":{\"value\":\"http://www.opengis.net/def/uom/UCUM/\",\"type\":\"mm\"}}},\"visibility\":{\"type\":\"Parameter\",\"description\":\"Visibility Over Previous Three Hours\",\"unit\":{\"label\":\"metres\",\"symbol\":{\"value\":\"http://www.opengis.net/def/uom/UCUM/\",\"type\":\"m\"}}},\"probOfHail\":{\"type\":\"Parameter\",\"description\":\"Three Hour Probability of Hail\",\"unit\":{\"label\":\"percentage\",\"symbol\":{\"value\":\"http://www.opengis.net/def/uom/UCUM/\",\"type\":\"%\"}}},\"windDirectionFrom10m\":{\"type\":\"Parameter\",\"description\":\"10m Wind From Direction Over Previous Three Hours\",\"unit\":{\"label\":\"degrees\",\"symbol\":{\"value\":\"http://www.opengis.net/def/uom/UCUM/\",\"type\":\"deg\"}}},\"probOfHeavyRain\":{\"type\":\"Parameter\",\"description\":\"Three Hour Probability of Heavy Rain\",\"unit\":{\"label\":\"percentage\",\"symbol\":{\"value\":\"http://www.opengis.net/def/uom/UCUM/\",\"type\":\"%\"}}},\"maxScreenAirTemp\":{\"type\":\"Parameter\",\"description\":\"Maximum Screen Air Temperature Over Previous Three Hours\",\"unit\":{\"label\":\"degrees Celsius\",\"symbol\":{\"value\":\"http://www.opengis.net/def/uom/UCUM/\",\"type\":\"Cel\"}}},\"feelsLikeTemp\":{\"type\":\"Parameter\",\"description\":\"Feels Like Temperature Over Previous Three Hours\",\"unit\":{\"label\":\"degrees Celsius\",\"symbol\":{\"value\":\"http://www.opengis.net/def/uom/UCUM/\",\"type\":\"Cel\"}}},\"probOfSferics\":{\"type\":\"Parameter\",\"description\":\"Three Hour Probability of Sferics\",\"unit\":{\"label\":\"percentage\",\"symbol\":{\"value\":\"http://www.opengis.net/def/uom/UCUM/\",\"type\":\"%\"}}},\"screenRelativeHumidity\":{\"type\":\"Parameter\",\"description\":\"Screen Relative Humidity Over Previous Three Hours\",\"unit\":{\"label\":\"percentage\",\"symbol\":{\"value\":\"http://www.opengis.net/def/uom/UCUM/\",\"type\":\"%\"}}},\"windSpeed10m\":{\"type\":\"Parameter\",\"description\":\"10m Wind Speed Over Previous Three Hours\",\"unit\":{\"label\":\"metres per second\",\"symbol\":{\"value\":\"http://www.opengis.net/def/uom/UCUM/\",\"type\":\"m/s\"}}},\"probOfPrecipitation\":{\"type\":\"Parameter\",\"description\":\"Three Hour Probability of Precipitation\",\"unit\":{\"label\":\"percentage\",\"symbol\":{\"value\":\"http://www.opengis.net/def/uom/UCUM/\",\"type\":\"%\"}}},\"probOfRain\":{\"type\":\"Parameter\",\"description\":\"Three Hour Probability of Rain\",\"unit\":{\"label\":\"percentage\",\"symbol\":{\"value\":\"http://www.opengis.net/def/uom/UCUM/\",\"type\":\"%\"}}},\"max10mWindGust\":{\"type\":\"Parameter\",\"description\":\"Maximum 10m Wind Gust Speed Over Previous Three Hours\",\"unit\":{\"label\":\"metres per second\",\"symbol\":{\"value\":\"http://www.opengis.net/def/uom/UCUM/\",\"type\":\"m/s\"}}},\"significantWeatherCode\":{\"type\":\"Parameter\",\"description\":\"Three Hour Significant Weather Code\",\"unit\":{\"label\":\"dimensionless\",\"symbol\":{\"value\":\"https://datahub.metoffice.gov.uk/\",\"type\":\"1\"}}},\"probOfHeavySnow\":{\"type\":\"Parameter\",\"description\":\"Three Hour Probability of Heavy Snow\",\"unit\":{\"label\":\"percentage\",\"symbol\":{\"value\":\"http://www.opengis.net/def/uom/UCUM/\",\"type\":\"%\"}}},\"minScreenAirTemp\":{\"type\":\"Parameter\",\"description\":\"Minimum Screen Air Temperature Over Previous Three Hours\",\"unit\":{\"label\":\"degrees Celsius\",\"symbol\":{\"value\":\"http://www.opengis.net/def/uom/UCUM/\",\"type\":\"Cel\"}}},\"totalPrecipAmount\":{\"type\":\"Parameter\",\"description\":\"Total Precipitation Amount Over Previous Three Hours\",\"unit\":{\"label\":\"millimetres\",\"symbol\":{\"value\":\"http://www.opengis.net/def/uom/UCUM/\",\"type\":\"mm\"}}},\"mslp\":{\"type\":\"Parameter\",\"description\":\"Mean Sea Level Pressure Over Previous Three Hours\",\"unit\":{\"label\":\"pascals\",\"symbol\":{\"value\":\"http://www.opengis.net/def/uom/UCUM/\",\"type\":\"Pa\"}}},\"windGustSpeed10m\":{\"type\":\"Parameter\",\"description\":\"10m Wind Gust Speed Over Previous Three Hours\",\"unit\":{\"label\":\"metres per second\",\"symbol\":{\"value\":\"http://www.opengis.net/def/uom/UCUM/\",\"type\":\"m/s\"}}},\"uvIndex\":{\"type\":\"Parameter\",\"description\":\"Maximum UV Index Over Previous Three Hours\",\"unit\":{\"label\":\"dimensionless\",\"symbol\":{\"value\":\"http://www.opengis.net/def/uom/UCUM/\",\"type\":\"1\"}}},\"probOfSnow\":{\"type\":\"Parameter\",\"description\":\"Three Hour Probability of Snow\",\"unit\":{\"label\":\"percentage\",\"symbol\":{\"value\":\"http://www.opengis.net/def/uom/UCUM/\",\"type\":\"%\"}}}}]}\n"
     ]
    }
   ],
   "source": [
    "import sys\n",
    "def retrieve_forecast(baseUrl, timesteps, requestHeaders, latitude, longitude, excludeMetadata, includeLocation):\n",
    "    \n",
    "    url = baseUrl + timesteps \n",
    "    \n",
    "    headers = {'accept': \"application/json\"}\n",
    "    headers.update(requestHeaders)\n",
    "    params = {\n",
    "        'excludeParameterMetadata' : excludeMetadata,\n",
    "        'includeLocationName' : includeLocation,\n",
    "        'latitude' : latitude,\n",
    "        'longitude' : longitude\n",
    "        }\n",
    "\n",
    "    success = False\n",
    "    retries = 5\n",
    "\n",
    "    while not success and retries >0:\n",
    "        try:\n",
    "            req = requests.get(url, headers=headers, params=params)\n",
    "            success = True\n",
    "        except Exception as e:\n",
    "            retries -= 1\n",
    "            time.sleep(10)\n",
    "            if retries == 0:\n",
    "                sys.exit()\n",
    "\n",
    "    req.encoding = 'utf-8'\n",
    "\n",
    "    print(req.text)\n",
    "    return req \n",
    "# pd.DataFrame(req.json())\n",
    "\n",
    "requestHeaders = {\"apikey\": met_ss_api}\n",
    "headers = {'accept': \"application/json\"}\n",
    "headers.update(requestHeaders)\n",
    "base_url = \"https://data.hub.api.metoffice.gov.uk/sitespecific/v0/point/\"\n",
    "timesteps = 'three-hourly'\n",
    "latitude = lat\n",
    "longitude = lon\n",
    "req = retrieve_forecast(baseUrl = base_url, \n",
    "                  timesteps = timesteps, \n",
    "                  requestHeaders = requestHeaders, \n",
    "                  latitude = latitude, \n",
    "                  longitude = longitude, \n",
    "                  excludeMetadata = False, \n",
    "                  includeLocation = True)\n",
    "df_forecast = pd.DataFrame(req.json()['features'][0]['properties']['timeSeries'])\n",
    "df_forecast[['time','windSpeed10m',\t'windDirectionFrom10m',\t'windGustSpeed10m',\t'max10mWindGust']]"
   ]
  },
  {
   "cell_type": "code",
   "execution_count": 123,
   "id": "7eea573f",
   "metadata": {},
   "outputs": [
    {
     "name": "stdout",
     "output_type": "stream",
     "text": [
      "['sfcWind', 'transverse_mercator', 'time_bnds', 'projection_y_coordinate_bnds', 'projection_x_coordinate_bnds', 'time', 'projection_y_coordinate', 'projection_x_coordinate', 'latitude', 'longitude']\n"
     ]
    }
   ],
   "source": [
    "import xarray as xr\n",
    "\n",
    "# Open the file\n",
    "ds = xr.open_dataset('data\\sfcWind_hadukgrid_uk_1km_ann_202301-202312.nc')\n",
    "\n",
    "# print(ds.variables)        # list of variables\n",
    "# print(ds.dims)             # dimensions of the dataset\n",
    "# print(ds.coords) \n",
    "print(list(ds.variables))"
   ]
  },
  {
   "cell_type": "code",
   "execution_count": 126,
   "id": "e4efe828",
   "metadata": {},
   "outputs": [
    {
     "data": {
      "text/plain": [
       "'3.11.9 (tags/v3.11.9:de54cf5, Apr  2 2024, 10:12:12) [MSC v.1938 64 bit (AMD64)]'"
      ]
     },
     "execution_count": 126,
     "metadata": {},
     "output_type": "execute_result"
    }
   ],
   "source": [
    "import sys\n",
    "sys.version"
   ]
  },
  {
   "cell_type": "code",
   "execution_count": null,
   "id": "fe1a5b8c",
   "metadata": {},
   "outputs": [],
   "source": []
  },
  {
   "cell_type": "code",
   "execution_count": 124,
   "id": "7e53185a",
   "metadata": {},
   "outputs": [
    {
     "data": {
      "text/plain": [
       "(array([ 1563.,  8772., 15836., 26490., 46448., 46795., 39102., 32003.,\n",
       "        18757.,  9311.]),\n",
       " array([-8.6 , -7.56, -6.52, -5.48, -4.44, -3.4 , -2.36, -1.32, -0.28,\n",
       "         0.76,  1.8 ]),\n",
       " <BarContainer object of 10 artists>)"
      ]
     },
     "execution_count": 124,
     "metadata": {},
     "output_type": "execute_result"
    },
    {
     "data": {
      "image/png": "[encoded data removed]",
      "text/plain": [
       "<Figure size 640x480 with 1 Axes>"
      ]
     },
     "metadata": {},
     "output_type": "display_data"
    }
   ],
   "source": [
    "df_wind = ds['sfcWind']\n",
    "import matplotlib.pyplot as plt\n",
    "# Convert to pandas DataFrame (flattening time and spatial dimensions if needed)\n",
    "df_wind = df_wind.to_dataframe().reset_index()\n",
    "plt.hist(np.round(df_wind[~df_wind['sfcWind'].isna()]['longitude'],1))"
   ]
  },
  {
   "cell_type": "code",
   "execution_count": null,
   "id": "ad6bfd9d",
   "metadata": {},
   "outputs": [
    {
     "data": {
      "text/plain": [
       "time\n",
       "2024-07-01    1305000\n",
       "Name: count, dtype: int64"
      ]
     },
     "execution_count": 122,
     "metadata": {},
     "output_type": "execute_result"
    }
   ],
   "source": [
    "# -3.011912044445406 52.8811455063142\n"
   ]
  },
  {
   "cell_type": "code",
   "execution_count": 125,
   "id": "d90e8411",
   "metadata": {},
   "outputs": [
    {
     "data": {
      "text/html": [
       "<div>\n",
       "<style scoped>\n",
       "    .dataframe tbody tr th:only-of-type {\n",
       "        vertical-align: middle;\n",
       "    }\n",
       "\n",
       "    .dataframe tbody tr th {\n",
       "        vertical-align: top;\n",
       "    }\n",
       "\n",
       "    .dataframe thead th {\n",
       "        text-align: right;\n",
       "    }\n",
       "</style>\n",
       "<table border=\"1\" class=\"dataframe\">\n",
       "  <thead>\n",
       "    <tr style=\"text-align: right;\">\n",
       "      <th></th>\n",
       "      <th>time</th>\n",
       "      <th>projection_y_coordinate</th>\n",
       "      <th>projection_x_coordinate</th>\n",
       "      <th>latitude</th>\n",
       "      <th>longitude</th>\n",
       "      <th>sfcWind</th>\n",
       "    </tr>\n",
       "  </thead>\n",
       "  <tbody>\n",
       "    <tr>\n",
       "      <th>55425</th>\n",
       "      <td>2023-07-01</td>\n",
       "      <td>-138500.0</td>\n",
       "      <td>325500.0</td>\n",
       "      <td>48.649187</td>\n",
       "      <td>-3.011578</td>\n",
       "      <td>NaN</td>\n",
       "    </tr>\n",
       "    <tr>\n",
       "      <th>56325</th>\n",
       "      <td>2023-07-01</td>\n",
       "      <td>-137500.0</td>\n",
       "      <td>325500.0</td>\n",
       "      <td>48.658182</td>\n",
       "      <td>-3.011758</td>\n",
       "      <td>NaN</td>\n",
       "    </tr>\n",
       "    <tr>\n",
       "      <th>57225</th>\n",
       "      <td>2023-07-01</td>\n",
       "      <td>-136500.0</td>\n",
       "      <td>325500.0</td>\n",
       "      <td>48.667178</td>\n",
       "      <td>-3.011938</td>\n",
       "      <td>NaN</td>\n",
       "    </tr>\n",
       "    <tr>\n",
       "      <th>58125</th>\n",
       "      <td>2023-07-01</td>\n",
       "      <td>-135500.0</td>\n",
       "      <td>325500.0</td>\n",
       "      <td>48.676173</td>\n",
       "      <td>-3.012118</td>\n",
       "      <td>NaN</td>\n",
       "    </tr>\n",
       "    <tr>\n",
       "      <th>59025</th>\n",
       "      <td>2023-07-01</td>\n",
       "      <td>-134500.0</td>\n",
       "      <td>325500.0</td>\n",
       "      <td>48.685169</td>\n",
       "      <td>-3.012298</td>\n",
       "      <td>NaN</td>\n",
       "    </tr>\n",
       "    <tr>\n",
       "      <th>...</th>\n",
       "      <td>...</td>\n",
       "      <td>...</td>\n",
       "      <td>...</td>\n",
       "      <td>...</td>\n",
       "      <td>...</td>\n",
       "      <td>...</td>\n",
       "    </tr>\n",
       "    <tr>\n",
       "      <th>1189443</th>\n",
       "      <td>2023-07-01</td>\n",
       "      <td>1121500.0</td>\n",
       "      <td>343500.0</td>\n",
       "      <td>59.975041</td>\n",
       "      <td>-3.012313</td>\n",
       "      <td>NaN</td>\n",
       "    </tr>\n",
       "    <tr>\n",
       "      <th>1246144</th>\n",
       "      <td>2023-07-01</td>\n",
       "      <td>1184500.0</td>\n",
       "      <td>344500.0</td>\n",
       "      <td>60.540814</td>\n",
       "      <td>-3.011703</td>\n",
       "      <td>NaN</td>\n",
       "    </tr>\n",
       "    <tr>\n",
       "      <th>1247044</th>\n",
       "      <td>2023-07-01</td>\n",
       "      <td>1185500.0</td>\n",
       "      <td>344500.0</td>\n",
       "      <td>60.549792</td>\n",
       "      <td>-3.011984</td>\n",
       "      <td>NaN</td>\n",
       "    </tr>\n",
       "    <tr>\n",
       "      <th>1247944</th>\n",
       "      <td>2023-07-01</td>\n",
       "      <td>1186500.0</td>\n",
       "      <td>344500.0</td>\n",
       "      <td>60.558770</td>\n",
       "      <td>-3.012264</td>\n",
       "      <td>NaN</td>\n",
       "    </tr>\n",
       "    <tr>\n",
       "      <th>1304645</th>\n",
       "      <td>2023-07-01</td>\n",
       "      <td>1249500.0</td>\n",
       "      <td>345500.0</td>\n",
       "      <td>61.124494</td>\n",
       "      <td>-3.011746</td>\n",
       "      <td>NaN</td>\n",
       "    </tr>\n",
       "  </tbody>\n",
       "</table>\n",
       "<p>93 rows × 6 columns</p>\n",
       "</div>"
      ],
      "text/plain": [
       "              time  projection_y_coordinate  projection_x_coordinate  \\\n",
       "55425   2023-07-01                -138500.0                 325500.0   \n",
       "56325   2023-07-01                -137500.0                 325500.0   \n",
       "57225   2023-07-01                -136500.0                 325500.0   \n",
       "58125   2023-07-01                -135500.0                 325500.0   \n",
       "59025   2023-07-01                -134500.0                 325500.0   \n",
       "...            ...                      ...                      ...   \n",
       "1189443 2023-07-01                1121500.0                 343500.0   \n",
       "1246144 2023-07-01                1184500.0                 344500.0   \n",
       "1247044 2023-07-01                1185500.0                 344500.0   \n",
       "1247944 2023-07-01                1186500.0                 344500.0   \n",
       "1304645 2023-07-01                1249500.0                 345500.0   \n",
       "\n",
       "          latitude  longitude  sfcWind  \n",
       "55425    48.649187  -3.011578      NaN  \n",
       "56325    48.658182  -3.011758      NaN  \n",
       "57225    48.667178  -3.011938      NaN  \n",
       "58125    48.676173  -3.012118      NaN  \n",
       "59025    48.685169  -3.012298      NaN  \n",
       "...            ...        ...      ...  \n",
       "1189443  59.975041  -3.012313      NaN  \n",
       "1246144  60.540814  -3.011703      NaN  \n",
       "1247044  60.549792  -3.011984      NaN  \n",
       "1247944  60.558770  -3.012264      NaN  \n",
       "1304645  61.124494  -3.011746      NaN  \n",
       "\n",
       "[93 rows x 6 columns]"
      ]
     },
     "execution_count": 125,
     "metadata": {},
     "output_type": "execute_result"
    }
   ],
   "source": [
    "df_wind[(np.round(df_wind['longitude'],3) == -3.012)]"
   ]
  },
  {
   "cell_type": "code",
   "execution_count": null,
   "id": "97ae6161",
   "metadata": {},
   "outputs": [],
   "source": [
    " & (~df_wind['sfcWind'].isna())]"
   ]
  },
  {
   "cell_type": "code",
   "execution_count": null,
   "id": "51ef4788",
   "metadata": {},
   "outputs": [],
   "source": []
  },
  {
   "cell_type": "code",
   "execution_count": null,
   "id": "1b32cef6",
   "metadata": {},
   "outputs": [],
   "source": []
  },
  {
   "cell_type": "code",
   "execution_count": null,
   "id": "ce4a730e",
   "metadata": {},
   "outputs": [],
   "source": []
  },
  {
   "cell_type": "code",
   "execution_count": 98,
   "id": "f8e13d66",
   "metadata": {},
   "outputs": [],
   "source": [
    "lat = 3.01\n",
    "lon = 52.88\n",
    "start = 1369728000\n",
    "end = 1369729000\n",
    "open_weather_data_api_key = '1548fbeeba9526658fd7bf8ba300189b'\n",
    "\n",
    "open_weather_api_url = f'https://history.openweathermap.org/data/2.5/history/city?lat={lat}&lon={lon}&type=hour&start={start}&end={end}&appid={open_weather_data_api_key}'\n",
    "df = requests.get(open_weather_api_url)"
   ]
  },
  {
   "cell_type": "code",
   "execution_count": 99,
   "id": "b48384da",
   "metadata": {},
   "outputs": [
    {
     "data": {
      "text/plain": [
       "{'cod': 401,\n",
       " 'message': 'Invalid API key. Please see http://openweathermap.org/faq#error401 for more info.'}"
      ]
     },
     "execution_count": 99,
     "metadata": {},
     "output_type": "execute_result"
    }
   ],
   "source": [
    "df.json()"
   ]
  },
  {
   "cell_type": "code",
   "execution_count": null,
   "id": "6dce0cb9",
   "metadata": {},
   "outputs": [],
   "source": []
  }
 ],
 "metadata": {
  "kernelspec": {
   "display_name": "Python 3",
   "language": "python",
   "name": "python3"
  },
  "language_info": {
   "codemirror_mode": {
    "name": "ipython",
    "version": 3
   },
   "file_extension": ".py",
   "mimetype": "text/x-python",
   "name": "python",
   "nbconvert_exporter": "python",
   "pygments_lexer": "ipython3",
   "version": "3.11.9"
  }
 },
 "nbformat": 4,
 "nbformat_minor": 5
}
