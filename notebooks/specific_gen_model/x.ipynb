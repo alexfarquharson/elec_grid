{
 "cells": [
  {
   "cell_type": "code",
   "execution_count": 10,
   "id": "f0cd06ad",
   "metadata": {},
   "outputs": [],
   "source": [
    "import datetime\n",
    "from dateutil.relativedelta import relativedelta"
   ]
  },
  {
   "cell_type": "code",
   "execution_count": 26,
   "id": "fecfbfea",
   "metadata": {},
   "outputs": [
    {
     "data": {
      "text/plain": [
       "[['01/01/2024', '01/04/2024'],\n",
       " ['01/04/2024', '01/07/2024'],\n",
       " ['01/07/2024', '01/10/2024'],\n",
       " ['01/10/2024', '01/01/2025'],\n",
       " ['01/01/2025', '01/04/2025'],\n",
       " ['01/04/2025', '01/07/2025'],\n",
       " ['01/07/2025', '01/10/2025']]"
      ]
     },
     "execution_count": 26,
     "metadata": {},
     "output_type": "execute_result"
    }
   ],
   "source": [
    "def create_dates_list(start_date, finish_date = None,months_delta = 3):\n",
    "    \n",
    "    start_date = datetime.datetime.strptime(start_date, \"%d/%m/%Y\").date()\n",
    "\n",
    "    if finish_date is not None:\n",
    "        finish_date = datetime.datetime.strptime(finish_date, \"%d/%m/%Y\").date()\n",
    "    else:\n",
    "        finish_date = datetime.date.today()\n",
    "    \n",
    "    dates_list =  []\n",
    "    # current_date = start_date\n",
    "    while start_date < finish_date:\n",
    "        \n",
    "        end_date = start_date + relativedelta(months=months_delta)\n",
    "        dates_list.append([start_date.strftime(\"%d/%m/%Y\"),end_date.strftime(\"%d/%m/%Y\")])\n",
    "        start_date = start_date + relativedelta(months=months_delta)\n",
    "    return dates_list\n",
    "\n",
    "\n",
    "create_dates_list('01/01/2024')"
   ]
  },
  {
   "cell_type": "code",
   "execution_count": null,
   "id": "b3a26b1b",
   "metadata": {},
   "outputs": [
    {
     "name": "stderr",
     "output_type": "stream",
     "text": [
      "skipping variable: paramId==49 shortName='fg10'\n",
      "Traceback (most recent call last):\n",
      "  File \"c:\\Users\\EAFar\\OneDrive\\Documents_Alexander\\repos\\elec_grid\\.env_eg\\Lib\\site-packages\\cfgrib\\dataset.py\", line 725, in build_dataset_components\n",
      "    dict_merge(variables, coord_vars)\n",
      "  File \"c:\\Users\\EAFar\\OneDrive\\Documents_Alexander\\repos\\elec_grid\\.env_eg\\Lib\\site-packages\\cfgrib\\dataset.py\", line 641, in dict_merge\n",
      "    raise DatasetBuildError(\n",
      "cfgrib.dataset.DatasetBuildError: key present and new value is different: key='time' value=Variable(dimensions=('time',), data=array([1704067200, 1704070800, 1704074400, ..., 1757836800, 1757840400,\n",
      "       1757844000], shape=(14939,))) new_value=Variable(dimensions=('time',), data=array([1704045600, 1704088800, 1704132000, ..., 1757743200, 1757786400,\n",
      "       1757829600], shape=(1246,)))\n",
      "c:\\Users\\EAFar\\OneDrive\\Documents_Alexander\\repos\\elec_grid\\.env_eg\\Lib\\site-packages\\cfgrib\\xarray_plugin.py:131: FutureWarning: In a future version, xarray will not decode the variable 'step' into a timedelta64 dtype based on the presence of a timedelta-like 'units' attribute by default. Instead it will rely on the presence of a timedelta64 'dtype' attribute, which is now xarray's default way of encoding timedelta64 values.\n",
      "To continue decoding into a timedelta64 dtype, either set `decode_timedelta=True` when opening this dataset, or add the attribute `dtype='timedelta64[ns]'` to this variable on disk.\n",
      "To opt-in to future behavior, set `decode_timedelta=False`.\n",
      "  vars, attrs, coord_names = xr.conventions.decode_cf_variables(\n"
     ]
    },
    {
     "ename": "TypeError",
     "evalue": "DataFrame.to_feather() missing 1 required positional argument: 'path'",
     "output_type": "error",
     "traceback": [
      "\u001b[31m---------------------------------------------------------------------------\u001b[39m",
      "\u001b[31mTypeError\u001b[39m                                 Traceback (most recent call last)",
      "\u001b[36mCell\u001b[39m\u001b[36m \u001b[39m\u001b[32mIn[27]\u001b[39m\u001b[32m, line 25\u001b[39m\n\u001b[32m     20\u001b[39m df_gcmwf = get_wind_angle(df_gcmwf)\n\u001b[32m     22\u001b[39m \u001b[38;5;66;03m# start_date = \u001b[39;00m\n\u001b[32m     23\u001b[39m \u001b[38;5;66;03m# end_date = \u001b[39;00m\n\u001b[32m---> \u001b[39m\u001b[32m25\u001b[39m \u001b[43mdf_gcmwf\u001b[49m\u001b[43m.\u001b[49m\u001b[43mto_feather\u001b[49m\u001b[43m(\u001b[49m\u001b[43m)\u001b[49m\n",
      "\u001b[31mTypeError\u001b[39m: DataFrame.to_feather() missing 1 required positional argument: 'path'"
     ]
    }
   ],
   "source": [
    "import numpy as np\n",
    "import pandas as pd\n",
    "import xarray as xr\n",
    "import sys\n",
    "sys.path.append('../../')\n",
    "# get repo root actual dir (for file reading)\n",
    "from helpers.system_helpers.repo_root import REPO_ROOT\n",
    "from helpers.data_helpers.ecmwf_helpers import linear_approximation,get_wind_angle\n",
    "\n",
    "xr_raw = xr.open_dataset(f'{REPO_ROOT}/data/doronell_data/doronell_ecmwf.grib', engine=\"cfgrib\")\n",
    "df_v100 = xr_raw['v100'].to_dataframe().reset_index()\n",
    "df_u100 = xr_raw['u100'].to_dataframe().reset_index()\n",
    "\n",
    "# get point of wind at wind farm location\n",
    "df_gcmwf = linear_approximation(df_v100,'v100')\n",
    "df_gcmwf = df_gcmwf.merge(linear_approximation(df_u100,'u100'), on = ['time'])\n",
    "# get actual wind speed using pythag\n",
    "df_gcmwf['h100'] = np.sqrt(df_gcmwf['v100']**2 + df_gcmwf['u100']**2)\n",
    "# get wind direction using pythag\n",
    "df_gcmwf = get_wind_angle(df_gcmwf)\n",
    "\n",
    "min_time_str = df_gcmwf.time.min().strftime(format = '%H-%d/%m/%Y')\n",
    "max_time_str = df_gcmwf.time.max().strftime(format = '%H-%d/%m/%Y')\n",
    "\n",
    "df_gcmwf.to_feather(f'{REPO_ROOT}/data/doronell_dataweather/{min_time_str}_{max_time_str}_ws.feather')"
   ]
  },
  {
   "cell_type": "code",
   "execution_count": 52,
   "id": "bd73e3ff",
   "metadata": {},
   "outputs": [],
   "source": [
    "min_time_str = df_gcmwf.time.min().strftime(format = '%H-%d%m%Y')\n",
    "max_time_str = df_gcmwf.time.max().strftime(format = '%H-%d%m%Y')\n",
    "df_gcmwf.to_feather(f'{REPO_ROOT}/data/doronell_data/weather/{min_time_str}_{max_time_str}_ws.feather')"
   ]
  },
  {
   "cell_type": "code",
   "execution_count": 47,
   "id": "44c70b59",
   "metadata": {},
   "outputs": [
    {
     "data": {
      "text/plain": [
       "Timestamp('2025-09-14 10:00:00')"
      ]
     },
     "execution_count": 47,
     "metadata": {},
     "output_type": "execute_result"
    }
   ],
   "source": [
    "df_gcmwf.time.max()"
   ]
  },
  {
   "cell_type": "code",
   "execution_count": null,
   "id": "3e515d0d",
   "metadata": {},
   "outputs": [],
   "source": []
  },
  {
   "cell_type": "code",
   "execution_count": 48,
   "id": "4bb346cd",
   "metadata": {},
   "outputs": [
    {
     "data": {
      "text/plain": [
       "'00-01/01/2024'"
      ]
     },
     "execution_count": 48,
     "metadata": {},
     "output_type": "execute_result"
    }
   ],
   "source": [
    "min_time_str"
   ]
  },
  {
   "cell_type": "code",
   "execution_count": null,
   "id": "d9f51127",
   "metadata": {},
   "outputs": [],
   "source": []
  },
  {
   "cell_type": "code",
   "execution_count": null,
   "id": "72dea4a6",
   "metadata": {},
   "outputs": [],
   "source": []
  }
 ],
 "metadata": {
  "kernelspec": {
   "display_name": ".env_eg (3.11.9)",
   "language": "python",
   "name": "python3"
  },
  "language_info": {
   "codemirror_mode": {
    "name": "ipython",
    "version": 3
   },
   "file_extension": ".py",
   "mimetype": "text/x-python",
   "name": "python",
   "nbconvert_exporter": "python",
   "pygments_lexer": "ipython3",
   "version": "3.11.9"
  }
 },
 "nbformat": 4,
 "nbformat_minor": 5
}
